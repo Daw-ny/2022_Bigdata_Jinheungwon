{
  "nbformat": 4,
  "nbformat_minor": 0,
  "metadata": {
    "colab": {
      "provenance": []
    },
    "kernelspec": {
      "name": "python3",
      "display_name": "Python 3"
    },
    "language_info": {
      "name": "python"
    }
  },
  "cells": [
    {
      "cell_type": "code",
      "execution_count": 4,
      "metadata": {
        "id": "-kvBNgyMvOpF"
      },
      "outputs": [],
      "source": [
        "### load modules\n",
        "import numpy as np\n",
        "import pandas as pd\n",
        "import matplotlib.pyplot as plt\n",
        "import seaborn as sns\n",
        "import re\n",
        "import math\n",
        "\n",
        "# scikit-learn\n",
        "import xgboost\n",
        "from sklearn.ensemble import ExtraTreesRegressor\n",
        "from sklearn.ensemble import RandomForestRegressor\n",
        "from sklearn.model_selection import GridSearchCV\n",
        "from sklearn.metrics import mean_squared_error\n",
        "\n",
        "\n",
        "# Explainable AI\n",
        "import shap\n",
        "\n",
        "# 한글 폰트 설정\n",
        "# plt.rcParams['font.family'] = 'NanumGothic'"
      ]
    },
    {
      "cell_type": "code",
      "source": [
        "### load example data\n",
        "data = pd.read_csv('df_final.csv')\n",
        "\n",
        "### rename data\n",
        "data.columns = [\"noneed\", \"sidocode\",\"sidoname\",\"sggname\",\n",
        "                \"nbuild\", \"noneed2\", \"pyangho\",\n",
        "                \"pwarning\", \"pheavy\", \"pwalking\",\n",
        "                \"pstress\", \"pwork\", \"phardw\",\n",
        "                \"rhousing\", \"rbuy\",\"rfactory\",\n",
        "                \"rgreen\",\"noneed3\",\"y\",\"g\"]\n",
        "\n",
        "### remove not need column\n",
        "data_use = data[data.columns.difference(['noneed','noneed2','noneed3','sidocode','sidoname','sggname',\n",
        "                                         'g'])]\n",
        "data_use = data_use.dropna(axis=0)"
      ],
      "metadata": {
        "id": "dLsg1nq-wQGH"
      },
      "execution_count": 14,
      "outputs": []
    },
    {
      "cell_type": "code",
      "source": [
        "### train test select\n",
        "X = data_use[data_use.columns.difference(['y'])]\n",
        "y = data_use[[\"y\"]]"
      ],
      "metadata": {
        "id": "Xt4-55d67mxx"
      },
      "execution_count": 16,
      "outputs": []
    },
    {
      "cell_type": "code",
      "source": [
        "# Xgboost 득점모델 학습\n",
        "xgr = xgboost.XGBRegressor(random_state=0)\n",
        "\n",
        "# Extratree 득점모델 학습\n",
        "etr = ExtraTreesRegressor(random_state=0)\n",
        "\n",
        "# 랜덤포레스트 득점모델 학습\n",
        "rf = RandomForestRegressor(random_state=0)"
      ],
      "metadata": {
        "id": "qzstEs_h_Isd"
      },
      "execution_count": 17,
      "outputs": []
    },
    {
      "cell_type": "code",
      "source": [
        "# fitting\n",
        "xgr.fit(X, y)\n",
        "etr.fit(X, y)\n",
        "rf.fit(X, y)"
      ],
      "metadata": {
        "colab": {
          "base_uri": "https://localhost:8080/"
        },
        "id": "cqk9X3-K_Nhb",
        "outputId": "e190ddc4-9a6e-4a72-fc28-f9a4eecbb36e"
      },
      "execution_count": 18,
      "outputs": [
        {
          "output_type": "stream",
          "name": "stdout",
          "text": [
            "[15:10:49] WARNING: /workspace/src/objective/regression_obj.cu:152: reg:linear is now deprecated in favor of reg:squarederror.\n"
          ]
        },
        {
          "output_type": "stream",
          "name": "stderr",
          "text": [
            "A column-vector y was passed when a 1d array was expected. Please change the shape of y to (n_samples,), for example using ravel().\n",
            "A column-vector y was passed when a 1d array was expected. Please change the shape of y to (n_samples,), for example using ravel().\n"
          ]
        },
        {
          "output_type": "execute_result",
          "data": {
            "text/plain": [
              "RandomForestRegressor(random_state=0)"
            ]
          },
          "metadata": {},
          "execution_count": 18
        }
      ]
    },
    {
      "cell_type": "code",
      "source": [
        "# train rmse\n",
        "xgr_predict = xgr.predict(X)\n",
        "print(\"RMSE':{}\".format(math.sqrt(mean_squared_error(xgr_predict, y))))\n",
        "\n",
        "# train rmse\n",
        "rf_predict = rf.predict(X)\n",
        "print(\"RMSE':{}\".format(math.sqrt(mean_squared_error(rf_predict, y))))\n",
        "\n",
        "# train rmse\n",
        "etr_predict = etr.predict(X)\n",
        "print(\"RMSE':{}\".format(math.sqrt(mean_squared_error(etr_predict, y))))"
      ],
      "metadata": {
        "colab": {
          "base_uri": "https://localhost:8080/"
        },
        "id": "JKoN_4Li_hyL",
        "outputId": "46daf57b-a1a6-4c2c-ac2a-b026dfa95dfa"
      },
      "execution_count": 21,
      "outputs": [
        {
          "output_type": "stream",
          "name": "stdout",
          "text": [
            "RMSE':2.253640337337417\n",
            "RMSE':2.240820546256221\n",
            "RMSE':7.576051406755093e-14\n"
          ]
        }
      ]
    },
    {
      "cell_type": "code",
      "source": [
        "### feature importance\n",
        "%matplotlib inline\n",
        " \n",
        "ftr_importances_values = etr.feature_importances_\n",
        "ftr_importances = pd.Series(ftr_importances_values, index=X.columns)\n",
        "ftr_top = ftr_importances.sort_values(ascending=False)[:20]\n",
        " \n",
        "plt.figure(figsize=(8, 6))\n",
        "sns.barplot(x=ftr_top, y=ftr_top.index, palette = 'rocket')\n",
        "plt.show()\n"
      ],
      "metadata": {
        "colab": {
          "base_uri": "https://localhost:8080/",
          "height": 374
        },
        "id": "s6oRhKPM_rP-",
        "outputId": "413cde2e-3419-4c1f-9178-4d852e0eb673"
      },
      "execution_count": 22,
      "outputs": [
        {
          "output_type": "display_data",
          "data": {
            "text/plain": [
              "<Figure size 576x432 with 1 Axes>"
            ],
            "image/png": "[encoded data removed]"
          },
          "metadata": {
            "needs_background": "light"
          }
        }
      ]
    },
    {
      "cell_type": "code",
      "source": [
        "### feature importance\n",
        "%matplotlib inline\n",
        " \n",
        "ftr_importances_values = xgr.feature_importances_\n",
        "ftr_importances = pd.Series(ftr_importances_values, index=X.columns)\n",
        "ftr_top = ftr_importances.sort_values(ascending=False)[:20]\n",
        " \n",
        "plt.figure(figsize=(8, 6))\n",
        "sns.barplot(x=ftr_top, y=ftr_top.index, palette = 'rocket')\n",
        "plt.show()"
      ],
      "metadata": {
        "colab": {
          "base_uri": "https://localhost:8080/",
          "height": 374
        },
        "id": "Aq6_DDYwAmws",
        "outputId": "fa1496f6-d9ae-460e-84cf-200e78f363a0"
      },
      "execution_count": 27,
      "outputs": [
        {
          "output_type": "display_data",
          "data": {
            "text/plain": [
              "<Figure size 576x432 with 1 Axes>"
            ],
            "image/png": "[encoded data removed]"
          },
          "metadata": {
            "needs_background": "light"
          }
        }
      ]
    },
    {
      "cell_type": "code",
      "source": [
        "### feature importance\n",
        "%matplotlib inline\n",
        " \n",
        "ftr_importances_values = rf.feature_importances_\n",
        "ftr_importances = pd.Series(ftr_importances_values, index=X.columns)\n",
        "ftr_top = ftr_importances.sort_values(ascending=False)[:20]\n",
        " \n",
        "plt.figure(figsize=(8, 6))\n",
        "sns.barplot(x=ftr_top, y=ftr_top.index, palette = 'rocket')\n",
        "plt.show()"
      ],
      "metadata": {
        "colab": {
          "base_uri": "https://localhost:8080/",
          "height": 374
        },
        "id": "jsO0fFI8Ao38",
        "outputId": "213e9414-6623-40de-d5ed-76b3c04d348c"
      },
      "execution_count": 26,
      "outputs": [
        {
          "output_type": "display_data",
          "data": {
            "text/plain": [
              "<Figure size 576x432 with 1 Axes>"
            ],
            "image/png": "[encoded data removed]"
          },
          "metadata": {
            "needs_background": "light"
          }
        }
      ]
    },
    {
      "cell_type": "code",
      "source": [],
      "metadata": {
        "id": "DGKNu9UzApd7"
      },
      "execution_count": null,
      "outputs": []
    }
  ]
}